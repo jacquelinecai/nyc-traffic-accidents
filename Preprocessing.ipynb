{
 "cells": [
  {
   "cell_type": "code",
   "execution_count": 1,
   "id": "502182c1-13fb-430e-b77c-51562afbbf5d",
   "metadata": {},
   "outputs": [],
   "source": [
    "import pandas as pd"
   ]
  },
  {
   "cell_type": "code",
   "execution_count": 2,
   "id": "c49633ab-8a61-4b3e-80a7-ee6b1d6dadb3",
   "metadata": {},
   "outputs": [],
   "source": [
    "data = pd.read_csv(\"Volume_Counts_2.csv\")"
   ]
  },
  {
   "cell_type": "code",
   "execution_count": 3,
   "id": "568496d8-b2d3-4774-99e4-3e449045fba0",
   "metadata": {},
   "outputs": [],
   "source": [
    "if not pd.api.types.is_integer_dtype(data['Yr']):\n",
    "    data['Yr'] = pd.to_datetime(data['Yr'], errors='coerce').dt.year\n",
    "data = data.dropna(subset=['Yr'])\n",
    "filtered_data = data[(data['Yr'] == 2022)]\n",
    "filtered_data = filtered_data.sort_values(by=['Yr', 'M', 'D']).reset_index(drop=True)\n",
    "filtered_data.to_csv(\"Volume_Counts.csv\", index=False)"
   ]
  },
  {
   "cell_type": "code",
   "execution_count": 4,
   "id": "85243687-b394-496d-8381-9c1b52660635",
   "metadata": {},
   "outputs": [
    {
     "name": "stdout",
     "output_type": "stream",
     "text": [
      "   RequestID      Boro    Yr  M  D  HH  MM  Vol  SegmentID  \\\n",
      "0      34178  Brooklyn  2022  1  3   0   0   15     189074   \n",
      "1      34178  Brooklyn  2022  1  3   0  15   10     189074   \n",
      "2      34178  Brooklyn  2022  1  3   0  30   10     189074   \n",
      "3      34178  Brooklyn  2022  1  3   0  45    7     189074   \n",
      "4      34178  Brooklyn  2022  1  3   1   0    8     189074   \n",
      "\n",
      "                                        WktGeom         street    fromSt  \\\n",
      "0  POINT (993228.5264971782 150600.75237618468)  OCEAN PARKWAY  Dead End   \n",
      "1  POINT (993228.5264971782 150600.75237618468)  OCEAN PARKWAY  Dead End   \n",
      "2  POINT (993228.5264971782 150600.75237618468)  OCEAN PARKWAY  Dead End   \n",
      "3  POINT (993228.5264971782 150600.75237618468)  OCEAN PARKWAY  Dead End   \n",
      "4  POINT (993228.5264971782 150600.75237618468)  OCEAN PARKWAY  Dead End   \n",
      "\n",
      "                toSt Direction  \n",
      "0  Ocean View Avenue        NB  \n",
      "1  Ocean View Avenue        NB  \n",
      "2  Ocean View Avenue        NB  \n",
      "3  Ocean View Avenue        NB  \n",
      "4  Ocean View Avenue        NB  \n"
     ]
    }
   ],
   "source": [
    "print(filtered_data.head())"
   ]
  },
  {
   "cell_type": "code",
   "execution_count": 5,
   "id": "4cef8c68-d0fb-4098-84d2-3cca1e29f5c3",
   "metadata": {},
   "outputs": [],
   "source": [
    "collisions_data = pd.read_csv(\"NYC_Collisions_2.csv\")"
   ]
  },
  {
   "cell_type": "code",
   "execution_count": 6,
   "id": "bd5d39c5-995b-4b3c-8f5c-5d01ffccd642",
   "metadata": {},
   "outputs": [],
   "source": [
    "collisions_data['Date'] = pd.to_datetime(collisions_data['Date'], format='mixed')\n",
    "collisions_2022 = collisions_data[collisions_data['Date'].dt.year == 2022]\n",
    "collisions_2022 = collisions_2022.dropna()\n",
    "collisions_2022.to_csv('NYC_Collisions.csv', index=False)"
   ]
  },
  {
   "cell_type": "code",
   "execution_count": 7,
   "id": "e573fce4-eddb-4a68-b3e1-ac84732a7bfc",
   "metadata": {},
   "outputs": [
    {
     "name": "stdout",
     "output_type": "stream",
     "text": [
      "        Collision ID       Date      Time    Borough      Street Name  \\\n",
      "110554       4491064 2022-01-01  02:09:00     Queens       150 Street   \n",
      "110557       4491430 2022-01-01  17:02:00  Manhattan   Madison Street   \n",
      "110560       4491694 2022-01-01  15:00:00      Bronx  Aqueduct Avenue   \n",
      "110561       4491096 2022-01-01  03:46:00  Manhattan  West 207 Street   \n",
      "110562       4491305 2022-01-01  07:30:00   Brooklyn  Vandalia Avenue   \n",
      "\n",
      "           Cross Street   Latitude  Longitude             Contributing Factor  \\\n",
      "110554  Coolidge Avenue  40.714996 -73.810220           Following Too Closely   \n",
      "110557  Mechanics Alley  40.712360 -73.993750     Traffic Control Disregarded   \n",
      "110560   Buchanan Place  40.858790 -73.907364  Driver Inattention/Distraction   \n",
      "110561   Sherman Avenue  40.865795 -73.920006             Passing Too Closely   \n",
      "110562     Elton Street  40.655655 -73.873440   Failure to Yield Right-of-Way   \n",
      "\n",
      "             Vehicle Type  Persons Injured  Persons Killed  \\\n",
      "110554  Passenger Vehicle              0.0               0   \n",
      "110557  Passenger Vehicle              0.0               0   \n",
      "110560  Passenger Vehicle              0.0               0   \n",
      "110561               Taxi              0.0               0   \n",
      "110562  Passenger Vehicle              0.0               0   \n",
      "\n",
      "        Pedestrians Injured  Pedestrians Killed  Cyclists Injured  \\\n",
      "110554                    0                   0                 0   \n",
      "110557                    0                   0                 0   \n",
      "110560                    0                   0                 0   \n",
      "110561                    0                   0                 0   \n",
      "110562                    0                   0                 0   \n",
      "\n",
      "        Cyclists Killed  Motorists Injured  Motorists Killed  \n",
      "110554                0                  0                 0  \n",
      "110557                0                  0                 0  \n",
      "110560                0                  0                 0  \n",
      "110561                0                  0                 0  \n",
      "110562                0                  0                 0  \n"
     ]
    }
   ],
   "source": [
    "print(collisions_2022.head())"
   ]
  },
  {
   "cell_type": "code",
   "execution_count": 2,
   "id": "c7f46a02-f81a-43ea-9475-2164668eb9eb",
   "metadata": {},
   "outputs": [],
   "source": [
    "subway = pd.read_csv(\"Subway_Riderships2.csv\")\n",
    "subway['transit_timestamp'] = pd.to_datetime(subway['transit_timestamp'], format='mixed')\n",
    "subway = subway[subway['transit_timestamp'].dt.year == 2022]\n",
    "subway = subway.sort_values(by='transit_timestamp')\n",
    "# columns_to_remove = ['station_complex_id', 'station_complex', 'routes', 'payment_method', 'transfers', 'Georeference']\n",
    "# columns_to_remove = ['station_complex_id', 'station_complex', 'routes', 'payment_method', 'transfers', 'Georeference']\n",
    "# subway_filtered = subway.drop(columns=columns_to_remove)\n",
    "# subway_filtered.to_csv(\"Subway_Riderships.csv\", index=False)\n",
    "subway.to_csv(\"Subway_Riderships.csv\", index=False)"
   ]
  },
  {
   "cell_type": "code",
   "execution_count": 3,
   "id": "e5881c20-b0d7-43d5-b3d5-9833d1f22b2f",
   "metadata": {},
   "outputs": [
    {
     "name": "stdout",
     "output_type": "stream",
     "text": [
      "        transit_timestamp borough  ridership   latitude  longitude\n",
      "3487405        2022-02-01       Q         12  40.737015  -73.87722\n",
      "2355726        2022-02-01      BK         13  40.686146  -73.99086\n",
      "3513549        2022-02-01      BK         11  40.711926  -73.94067\n",
      "1739132        2022-02-01       M         48  40.788643  -73.97622\n",
      "714248         2022-02-01       M         11  40.855225  -73.92941\n"
     ]
    }
   ],
   "source": [
    "print(subway.head())"
   ]
  },
  {
   "cell_type": "code",
   "execution_count": 2,
   "id": "6be925c8-ea65-4140-8f18-0891aadb8a4d",
   "metadata": {},
   "outputs": [
    {
     "name": "stdout",
     "output_type": "stream",
     "text": [
      "     transit_timestamp borough  ridership\n",
      "0  2022-02-01 00:00:00      BK       1796\n",
      "1  2022-02-01 00:00:00      BX        712\n",
      "2  2022-02-01 00:00:00       M       7407\n",
      "3  2022-02-01 00:00:00       Q       1237\n",
      "4  2022-02-01 01:00:00      BK        723\n"
     ]
    }
   ],
   "source": [
    "# Load your dataset (replace 'your_dataset.csv' with your actual file name)\n",
    "df = pd.read_csv('Subway_Riderships2.csv')\n",
    "columns_to_remove = ['latitude', 'longitude']\n",
    "aggregated_df = df.drop(columns=columns_to_remove)\n",
    "\n",
    "# Aggregate data by 'transit_timestamp' and 'borough'\n",
    "aggregated_df = df.groupby(['transit_timestamp', 'borough'], as_index=False).agg({\n",
    "    'ridership': 'sum',    # Sum ridership\n",
    "})\n",
    "\n",
    "# Convert 'ridership' to integer\n",
    "aggregated_df['ridership'] = aggregated_df['ridership'].astype(int)\n",
    "\n",
    "# Save the aggregated data to a new CSV (optional)\n",
    "aggregated_df.to_csv('Subway_Ridership.csv', index=False)\n",
    "\n",
    "# Display the resulting DataFrame\n",
    "print(aggregated_df.head())"
   ]
  }
 ],
 "metadata": {
  "kernelspec": {
   "display_name": "Python 3 (ipykernel)",
   "language": "python",
   "name": "python3"
  },
  "language_info": {
   "codemirror_mode": {
    "name": "ipython",
    "version": 3
   },
   "file_extension": ".py",
   "mimetype": "text/x-python",
   "name": "python",
   "nbconvert_exporter": "python",
   "pygments_lexer": "ipython3",
   "version": "3.12.2"
  }
 },
 "nbformat": 4,
 "nbformat_minor": 5
}
