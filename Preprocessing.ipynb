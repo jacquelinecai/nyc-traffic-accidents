{
 "cells": [
  {
   "cell_type": "code",
   "execution_count": 1,
   "id": "502182c1-13fb-430e-b77c-51562afbbf5d",
   "metadata": {},
   "outputs": [],
   "source": [
    "import pandas as pd"
   ]
  },
  {
   "cell_type": "code",
   "execution_count": 2,
   "id": "c49633ab-8a61-4b3e-80a7-ee6b1d6dadb3",
   "metadata": {},
   "outputs": [],
   "source": [
    "data = pd.read_csv(\"Volume_Counts_2.csv\")"
   ]
  },
  {
   "cell_type": "code",
   "execution_count": 3,
   "id": "568496d8-b2d3-4774-99e4-3e449045fba0",
   "metadata": {},
   "outputs": [],
   "source": [
    "if not pd.api.types.is_integer_dtype(data['Yr']):\n",
    "    data['Yr'] = pd.to_datetime(data['Yr'], errors='coerce').dt.year\n",
    "data = data.dropna(subset=['Yr'])\n",
    "filtered_data = data[(data['Yr'] == 2022)]\n",
    "filtered_data = filtered_data.sort_values(by=['Yr', 'M', 'D']).reset_index(drop=True)\n",
    "filtered_data.to_csv(\"Volume_Counts.csv\", index=False)"
   ]
  },
  {
   "cell_type": "code",
   "execution_count": 4,
   "id": "85243687-b394-496d-8381-9c1b52660635",
   "metadata": {},
   "outputs": [
    {
     "name": "stdout",
     "output_type": "stream",
     "text": [
      "   RequestID      Boro    Yr  M  D  HH  MM  Vol  SegmentID  \\\n",
      "0      34178  Brooklyn  2022  1  3   0   0   15     189074   \n",
      "1      34178  Brooklyn  2022  1  3   0  15   10     189074   \n",
      "2      34178  Brooklyn  2022  1  3   0  30   10     189074   \n",
      "3      34178  Brooklyn  2022  1  3   0  45    7     189074   \n",
      "4      34178  Brooklyn  2022  1  3   1   0    8     189074   \n",
      "\n",
      "                                        WktGeom         street    fromSt  \\\n",
      "0  POINT (993228.5264971782 150600.75237618468)  OCEAN PARKWAY  Dead End   \n",
      "1  POINT (993228.5264971782 150600.75237618468)  OCEAN PARKWAY  Dead End   \n",
      "2  POINT (993228.5264971782 150600.75237618468)  OCEAN PARKWAY  Dead End   \n",
      "3  POINT (993228.5264971782 150600.75237618468)  OCEAN PARKWAY  Dead End   \n",
      "4  POINT (993228.5264971782 150600.75237618468)  OCEAN PARKWAY  Dead End   \n",
      "\n",
      "                toSt Direction  \n",
      "0  Ocean View Avenue        NB  \n",
      "1  Ocean View Avenue        NB  \n",
      "2  Ocean View Avenue        NB  \n",
      "3  Ocean View Avenue        NB  \n",
      "4  Ocean View Avenue        NB  \n"
     ]
    }
   ],
   "source": [
    "print(filtered_data.head())"
   ]
  },
  {
   "cell_type": "code",
   "execution_count": 5,
   "id": "4cef8c68-d0fb-4098-84d2-3cca1e29f5c3",
   "metadata": {},
   "outputs": [],
   "source": [
    "collisions_data = pd.read_csv(\"NYC_Collisions_2.csv\")"
   ]
  },
  {
   "cell_type": "code",
   "execution_count": 6,
   "id": "bd5d39c5-995b-4b3c-8f5c-5d01ffccd642",
   "metadata": {},
   "outputs": [],
   "source": [
    "collisions_data['Date'] = pd.to_datetime(collisions_data['Date'], format='mixed')\n",
    "collisions_2022 = collisions_data[collisions_data['Date'].dt.year == 2022]\n",
    "collisions_2022 = collisions_2022.dropna()\n",
    "collisions_2022.to_csv('NYC_Collisions.csv', index=False)"
   ]
  },
  {
   "cell_type": "code",
   "execution_count": 7,
   "id": "e573fce4-eddb-4a68-b3e1-ac84732a7bfc",
   "metadata": {},
   "outputs": [
    {
     "name": "stdout",
     "output_type": "stream",
     "text": [
      "        Collision ID       Date      Time    Borough      Street Name  \\\n",
      "110554       4491064 2022-01-01  02:09:00     Queens       150 Street   \n",
      "110557       4491430 2022-01-01  17:02:00  Manhattan   Madison Street   \n",
      "110560       4491694 2022-01-01  15:00:00      Bronx  Aqueduct Avenue   \n",
      "110561       4491096 2022-01-01  03:46:00  Manhattan  West 207 Street   \n",
      "110562       4491305 2022-01-01  07:30:00   Brooklyn  Vandalia Avenue   \n",
      "\n",
      "           Cross Street   Latitude  Longitude             Contributing Factor  \\\n",
      "110554  Coolidge Avenue  40.714996 -73.810220           Following Too Closely   \n",
      "110557  Mechanics Alley  40.712360 -73.993750     Traffic Control Disregarded   \n",
      "110560   Buchanan Place  40.858790 -73.907364  Driver Inattention/Distraction   \n",
      "110561   Sherman Avenue  40.865795 -73.920006             Passing Too Closely   \n",
      "110562     Elton Street  40.655655 -73.873440   Failure to Yield Right-of-Way   \n",
      "\n",
      "             Vehicle Type  Persons Injured  Persons Killed  \\\n",
      "110554  Passenger Vehicle              0.0               0   \n",
      "110557  Passenger Vehicle              0.0               0   \n",
      "110560  Passenger Vehicle              0.0               0   \n",
      "110561               Taxi              0.0               0   \n",
      "110562  Passenger Vehicle              0.0               0   \n",
      "\n",
      "        Pedestrians Injured  Pedestrians Killed  Cyclists Injured  \\\n",
      "110554                    0                   0                 0   \n",
      "110557                    0                   0                 0   \n",
      "110560                    0                   0                 0   \n",
      "110561                    0                   0                 0   \n",
      "110562                    0                   0                 0   \n",
      "\n",
      "        Cyclists Killed  Motorists Injured  Motorists Killed  \n",
      "110554                0                  0                 0  \n",
      "110557                0                  0                 0  \n",
      "110560                0                  0                 0  \n",
      "110561                0                  0                 0  \n",
      "110562                0                  0                 0  \n"
     ]
    }
   ],
   "source": [
    "print(collisions_2022.head())"
   ]
  }
 ],
 "metadata": {
  "kernelspec": {
   "display_name": "Python 3 (ipykernel)",
   "language": "python",
   "name": "python3"
  },
  "language_info": {
   "codemirror_mode": {
    "name": "ipython",
    "version": 3
   },
   "file_extension": ".py",
   "mimetype": "text/x-python",
   "name": "python",
   "nbconvert_exporter": "python",
   "pygments_lexer": "ipython3",
   "version": "3.12.2"
  }
 },
 "nbformat": 4,
 "nbformat_minor": 5
}
