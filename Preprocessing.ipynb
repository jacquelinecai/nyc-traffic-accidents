{
 "cells": [
  {
   "cell_type": "code",
   "execution_count": 2,
   "id": "502182c1-13fb-430e-b77c-51562afbbf5d",
   "metadata": {},
   "outputs": [],
   "source": [
    "import pandas as pd"
   ]
  },
  {
   "cell_type": "code",
   "execution_count": 2,
   "id": "c49633ab-8a61-4b3e-80a7-ee6b1d6dadb3",
   "metadata": {},
   "outputs": [],
   "source": [
    "data = pd.read_csv(\"Volume_Counts_2.csv\")"
   ]
  },
  {
   "cell_type": "code",
   "execution_count": 3,
   "id": "568496d8-b2d3-4774-99e4-3e449045fba0",
   "metadata": {},
   "outputs": [],
   "source": [
    "if not pd.api.types.is_integer_dtype(data['Yr']):\n",
    "    data['Yr'] = pd.to_datetime(data['Yr'], errors='coerce').dt.year\n",
    "data = data.dropna(subset=['Yr'])\n",
    "filtered_data = data[(data['Yr'] == 2023)]\n",
    "filtered_data = filtered_data.sort_values(by=['Yr', 'M', 'D']).reset_index(drop=True)\n",
    "filtered_data.to_csv(\"Volume_Counts.csv\", index=False)"
   ]
  },
  {
   "cell_type": "code",
   "execution_count": 4,
   "id": "85243687-b394-496d-8381-9c1b52660635",
   "metadata": {},
   "outputs": [
    {
     "name": "stdout",
     "output_type": "stream",
     "text": [
      "   RequestID      Boro    Yr  M  D  HH  MM  Vol  SegmentID  \\\n",
      "0      35707  Brooklyn  2023  1  6  21  30  132     151516   \n",
      "1      35707  Brooklyn  2023  1  6  21  45  113     151516   \n",
      "2      35707  Brooklyn  2023  1  6  22   0  121     151516   \n",
      "3      35707  Brooklyn  2023  1  6  22  15  126     151516   \n",
      "4      35707  Brooklyn  2023  1  6  22  30  109     151516   \n",
      "\n",
      "                                         WktGeom           street    fromSt  \\\n",
      "0  POINT (1004852.0243700822 162537.73371917408)  FLATBUSH AVENUE  Dead end   \n",
      "1  POINT (1004852.0243700822 162537.73371917408)  FLATBUSH AVENUE  Dead end   \n",
      "2  POINT (1004852.0243700822 162537.73371917408)  FLATBUSH AVENUE  Dead end   \n",
      "3  POINT (1004852.0243700822 162537.73371917408)  FLATBUSH AVENUE  Dead end   \n",
      "4  POINT (1004852.0243700822 162537.73371917408)  FLATBUSH AVENUE  Dead end   \n",
      "\n",
      "       toSt Direction  \n",
      "0  Avenue S        NB  \n",
      "1  Avenue S        NB  \n",
      "2  Avenue S        NB  \n",
      "3  Avenue S        NB  \n",
      "4  Avenue S        NB  \n"
     ]
    }
   ],
   "source": [
    "print(filtered_data.head())"
   ]
  },
  {
   "cell_type": "code",
   "execution_count": 4,
   "id": "4cef8c68-d0fb-4098-84d2-3cca1e29f5c3",
   "metadata": {},
   "outputs": [],
   "source": [
    "collisions_data = pd.read_csv(\"NYC_Collisions_2.csv\")"
   ]
  },
  {
   "cell_type": "code",
   "execution_count": 6,
   "id": "bd5d39c5-995b-4b3c-8f5c-5d01ffccd642",
   "metadata": {},
   "outputs": [],
   "source": [
    "collisions_data['Date'] = pd.to_datetime(collisions_data['Date'], format='mixed')\n",
    "collisions_2023 = collisions_data[collisions_data['Date'].dt.year == 2023]\n",
    "collisions_2023 = collisions_2023.dropna()\n",
    "collisions_2023.to_csv('NYC_Collisions.csv', index=False)"
   ]
  },
  {
   "cell_type": "code",
   "execution_count": 7,
   "id": "e573fce4-eddb-4a68-b3e1-ac84732a7bfc",
   "metadata": {},
   "outputs": [
    {
     "name": "stdout",
     "output_type": "stream",
     "text": [
      "        Collision ID       Date      Time    Borough         Street Name  \\\n",
      "214329       4594595 2023-01-01  23:45:00     Queens   Astoria Boulevard   \n",
      "214330       4594761 2023-01-01  04:50:00      Bronx  Castle Hill Avenue   \n",
      "214332       4594712 2023-01-01  05:45:00     Queens    Queens Boulevard   \n",
      "214333       4595061 2023-01-01  01:00:00  Manhattan     West 116 Street   \n",
      "214337       4595042 2023-01-01  23:06:00     Queens     Beach 32 Street   \n",
      "\n",
      "               Cross Street   Latitude  Longitude  \\\n",
      "214329            37 Street  40.769737 -73.912440   \n",
      "214330      East 177 Street  40.830555 -73.850720   \n",
      "214332            33 Street  40.744667 -73.931694   \n",
      "214333   Morningside Avenue  40.805595 -73.958190   \n",
      "214337  Beach Channel Drive  40.598720 -73.766010   \n",
      "\n",
      "                  Contributing Factor       Vehicle Type  Persons Injured  \\\n",
      "214329    Traffic Control Disregarded               Taxi              2.0   \n",
      "214330                    Unspecified  Passenger Vehicle              0.0   \n",
      "214332          Passenger Distraction  Passenger Vehicle              0.0   \n",
      "214333  Failure to Yield Right-of-Way  Passenger Vehicle              0.0   \n",
      "214337                    Unspecified  Passenger Vehicle              0.0   \n",
      "\n",
      "        Persons Killed  Pedestrians Injured  Pedestrians Killed  \\\n",
      "214329               0                    0                   0   \n",
      "214330               0                    0                   0   \n",
      "214332               0                    0                   0   \n",
      "214333               0                    0                   0   \n",
      "214337               0                    0                   0   \n",
      "\n",
      "        Cyclists Injured  Cyclists Killed  Motorists Injured  Motorists Killed  \n",
      "214329                 0                0                  2                 0  \n",
      "214330                 0                0                  0                 0  \n",
      "214332                 0                0                  0                 0  \n",
      "214333                 0                0                  0                 0  \n",
      "214337                 0                0                  0                 0  \n"
     ]
    }
   ],
   "source": [
    "print(collisions_2023.head())"
   ]
  }
 ],
 "metadata": {
  "kernelspec": {
   "display_name": "Python 3 (ipykernel)",
   "language": "python",
   "name": "python3"
  },
  "language_info": {
   "codemirror_mode": {
    "name": "ipython",
    "version": 3
   },
   "file_extension": ".py",
   "mimetype": "text/x-python",
   "name": "python",
   "nbconvert_exporter": "python",
   "pygments_lexer": "ipython3",
   "version": "3.12.2"
  }
 },
 "nbformat": 4,
 "nbformat_minor": 5
}
