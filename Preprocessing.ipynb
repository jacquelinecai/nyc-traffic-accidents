{
 "cells": [
  {
   "cell_type": "code",
   "execution_count": 1,
   "id": "502182c1-13fb-430e-b77c-51562afbbf5d",
   "metadata": {},
   "outputs": [],
   "source": [
    "import pandas as pd"
   ]
  },
  {
   "cell_type": "code",
   "execution_count": 2,
   "id": "c49633ab-8a61-4b3e-80a7-ee6b1d6dadb3",
   "metadata": {},
   "outputs": [],
   "source": [
    "data = pd.read_csv(\"Automated_Traffic_Volume_Counts_20241027.csv\")"
   ]
  },
  {
   "cell_type": "code",
   "execution_count": 3,
   "id": "568496d8-b2d3-4774-99e4-3e449045fba0",
   "metadata": {},
   "outputs": [],
   "source": [
    "if not pd.api.types.is_integer_dtype(data['Yr']):\n",
    "    data['Yr'] = pd.to_datetime(data['Yr'], errors='coerce').dt.year\n",
    "data = data.dropna(subset=['Yr'])\n",
    "filtered_data = data[(data['Yr'] >= 2021) & (data['Yr'] <= 2023)]\n",
    "filtered_data = filtered_data.sort_values(by=['Yr', 'M', 'D']).reset_index(drop=True)\n",
    "filtered_data.to_csv(\"Volume_Counts.csv\", index=False)"
   ]
  },
  {
   "cell_type": "code",
   "execution_count": 4,
   "id": "85243687-b394-496d-8381-9c1b52660635",
   "metadata": {},
   "outputs": [
    {
     "name": "stdout",
     "output_type": "stream",
     "text": [
      "   RequestID    Boro    Yr  M   D  HH  MM  Vol  SegmentID  \\\n",
      "0      32970  Queens  2021  4  30   2   0    0     149701   \n",
      "1      32970  Queens  2021  4  30   2  15    1     149701   \n",
      "2      32970  Queens  2021  4  30   2  30    0     149701   \n",
      "3      32970  Queens  2021  4  30   2  45    0     149701   \n",
      "4      32970  Queens  2021  4  30   3   0    1     149701   \n",
      "\n",
      "                                        WktGeom          street  \\\n",
      "0  POINT (997407.0998491726 208620.92612708386)  PULASKI BRIDGE   \n",
      "1  POINT (997407.0998491726 208620.92612708386)  PULASKI BRIDGE   \n",
      "2  POINT (997407.0998491726 208620.92612708386)  PULASKI BRIDGE   \n",
      "3  POINT (997407.0998491726 208620.92612708386)  PULASKI BRIDGE   \n",
      "4  POINT (997407.0998491726 208620.92612708386)  PULASKI BRIDGE   \n",
      "\n",
      "                    fromSt      toSt Direction  \n",
      "0  Newtown Creek Shoreline  Dead end        NB  \n",
      "1  Newtown Creek Shoreline  Dead end        NB  \n",
      "2  Newtown Creek Shoreline  Dead end        NB  \n",
      "3  Newtown Creek Shoreline  Dead end        NB  \n",
      "4  Newtown Creek Shoreline  Dead end        NB  \n"
     ]
    }
   ],
   "source": [
    "print(filtered_data.head())"
   ]
  },
  {
   "cell_type": "code",
   "execution_count": null,
   "id": "3352cac3-4751-4793-8eca-662970688d22",
   "metadata": {},
   "outputs": [],
   "source": []
  }
 ],
 "metadata": {
  "kernelspec": {
   "display_name": "Python 3 (ipykernel)",
   "language": "python",
   "name": "python3"
  },
  "language_info": {
   "codemirror_mode": {
    "name": "ipython",
    "version": 3
   },
   "file_extension": ".py",
   "mimetype": "text/x-python",
   "name": "python",
   "nbconvert_exporter": "python",
   "pygments_lexer": "ipython3",
   "version": "3.12.2"
  }
 },
 "nbformat": 4,
 "nbformat_minor": 5
}
