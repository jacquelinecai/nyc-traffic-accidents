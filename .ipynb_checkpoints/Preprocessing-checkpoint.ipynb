{
 "cells": [
  {
   "cell_type": "code",
   "execution_count": 1,
   "id": "502182c1-13fb-430e-b77c-51562afbbf5d",
   "metadata": {},
   "outputs": [],
   "source": [
    "import pandas as pd"
   ]
  },
  {
   "cell_type": "code",
   "execution_count": 2,
   "id": "c49633ab-8a61-4b3e-80a7-ee6b1d6dadb3",
   "metadata": {},
   "outputs": [],
   "source": [
    "data = pd.read_csv(\"Automated_Traffic_Volume_Counts_20241027.csv\")"
   ]
  },
  {
   "cell_type": "code",
   "execution_count": 3,
   "id": "568496d8-b2d3-4774-99e4-3e449045fba0",
   "metadata": {},
   "outputs": [],
   "source": [
    "if not pd.api.types.is_integer_dtype(data['Yr']):\n",
    "    data['Yr'] = pd.to_datetime(data['Yr'], errors='coerce').dt.year\n",
    "data = data.dropna(subset=['Yr'])\n",
    "filtered_data = data[(data['Yr'] >= 2021) & (data['Yr'] <= 2023)]\n",
    "filtered_data = filtered_data.sort_values(by=['Yr', 'M', 'D']).reset_index(drop=True)\n",
    "filtered_data.to_csv(\"Volume_Counts.csv\", index=False)"
   ]
  },
  {
   "cell_type": "code",
   "execution_count": 4,
   "id": "85243687-b394-496d-8381-9c1b52660635",
   "metadata": {},
   "outputs": [
    {
     "name": "stdout",
     "output_type": "stream",
     "text": [
      "   RequestID      Boro    Yr  M  D  HH  MM  Vol  SegmentID  \\\n",
      "0      32725  Brooklyn  2021  1  4   0   0   80      22825   \n",
      "1      32725  Brooklyn  2021  1  4   0  15   57      22825   \n",
      "2      32725  Brooklyn  2021  1  4   0  30   51      22825   \n",
      "3      32725  Brooklyn  2021  1  4   0  45   40      22825   \n",
      "4      32725  Brooklyn  2021  1  4   1   0   27      22825   \n",
      "\n",
      "                                        WktGeom           street       fromSt  \\\n",
      "0  POINT (989057.9977016412 189237.20487783747)  ATLANTIC AVENUE  Bond Street   \n",
      "1  POINT (989057.9977016412 189237.20487783747)  ATLANTIC AVENUE  Bond Street   \n",
      "2  POINT (989057.9977016412 189237.20487783747)  ATLANTIC AVENUE  Bond Street   \n",
      "3  POINT (989057.9977016412 189237.20487783747)  ATLANTIC AVENUE  Bond Street   \n",
      "4  POINT (989057.9977016412 189237.20487783747)  ATLANTIC AVENUE  Bond Street   \n",
      "\n",
      "            toSt Direction  \n",
      "0  Nevins Street        EB  \n",
      "1  Nevins Street        EB  \n",
      "2  Nevins Street        EB  \n",
      "3  Nevins Street        EB  \n",
      "4  Nevins Street        EB  \n"
     ]
    }
   ],
   "source": [
    "print(filtered_data.head())"
   ]
  },
  {
   "cell_type": "code",
   "execution_count": null,
   "id": "3352cac3-4751-4793-8eca-662970688d22",
   "metadata": {},
   "outputs": [],
   "source": []
  }
 ],
 "metadata": {
  "kernelspec": {
   "display_name": "Python 3 (ipykernel)",
   "language": "python",
   "name": "python3"
  },
  "language_info": {
   "codemirror_mode": {
    "name": "ipython",
    "version": 3
   },
   "file_extension": ".py",
   "mimetype": "text/x-python",
   "name": "python",
   "nbconvert_exporter": "python",
   "pygments_lexer": "ipython3",
   "version": "3.12.2"
  }
 },
 "nbformat": 4,
 "nbformat_minor": 5
}
